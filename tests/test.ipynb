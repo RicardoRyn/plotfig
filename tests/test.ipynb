{
  "cells": [
    {
      "cell_type": "markdown",
      "id": "06c27e27",
      "metadata": {},
      "source": [
        "# 测试bar"
      ]
    },
    {
      "cell_type": "code",
      "execution_count": null,
      "id": "27a8b07f",
      "metadata": {},
      "outputs": [],
      "source": [
        "import numpy as np\n",
        "import matplotlib.pyplot as plt\n",
        "from plotfig import plot_one_group_bar_figure\n",
        "\n",
        "data1 = np.random.rand(10)\n",
        "data2 = np.random.rand(10)\n",
        "\n",
        "fig, ax = plt.subplots()\n",
        "ax = plot_one_group_bar_figure([data1, data2], ax=ax)"
      ]
    },
    {
      "cell_type": "markdown",
      "id": "78db5396",
      "metadata": {},
      "source": [
        "# 测试brain_surface"
      ]
    },
    {
      "cell_type": "code",
      "execution_count": null,
      "id": "5deaf529",
      "metadata": {},
      "outputs": [],
      "source": [
        "from plotfig import plot_brain_surface_figure\n",
        "\n",
        "plot_data = {\"lh_V1\": 1}\n",
        "\n",
        "ax = plot_brain_surface_figure(plot_data)"
      ]
    },
    {
      "cell_type": "markdown",
      "id": "9d609fe4",
      "metadata": {},
      "source": [
        "# 测试brain_connection"
      ]
    },
    {
      "cell_type": "code",
      "execution_count": null,
      "id": "501174e6",
      "metadata": {},
      "outputs": [],
      "source": [
        "import numpy as np\n",
        "\n",
        "\n",
        "def generate_sparse_connectome_v1(size: int = 31, sparsity: float = 0.9, seed=None):\n",
        "    \"\"\"\n",
        "    生成稀疏对称矩阵\n",
        "\n",
        "    Parameters:\n",
        "    size: 矩阵大小\n",
        "    sparsity: 稀疏度，0表示没有0元素，1表示全部为0元素\n",
        "    \"\"\"\n",
        "    if seed is not None:\n",
        "        np.random.seed(seed)\n",
        "    # 生成随机矩阵\n",
        "    connectome = np.random.rand(size, size)\n",
        "\n",
        "    # 应用稀疏度 - 随机将一些元素设为0\n",
        "    mask = np.random.rand(size, size) < sparsity\n",
        "    connectome[mask] = 0\n",
        "\n",
        "    # 确保矩阵对称\n",
        "    connectome = np.triu(connectome) + np.triu(connectome, 1).T\n",
        "\n",
        "    # 确保对角线为0\n",
        "    np.fill_diagonal(connectome, 0)\n",
        "\n",
        "    return connectome\n",
        "\n",
        "\n",
        "def generate_sparse_connectome_v2(\n",
        "    size: int = 31, density: float = 0.1, seed: int | None = None\n",
        ") -> np.ndarray:\n",
        "    \"\"\"\n",
        "    生成一个对称的方阵，满足：\n",
        "    - 对角线为0\n",
        "    - 有正负值\n",
        "    - 稀疏程度由 density 控制（非零元素比例）\n",
        "\n",
        "    参数:\n",
        "        size: 方阵大小（行列数）\n",
        "        density: 非零元素比例，0~1，越小越稀疏\n",
        "        seed: 随机种子，方便复现\n",
        "\n",
        "    返回:\n",
        "        np.ndarray 方阵\n",
        "    \"\"\"\n",
        "    if seed is not None:\n",
        "        np.random.seed(seed)\n",
        "\n",
        "    # 先生成上三角（不含对角线）随机稀疏矩阵\n",
        "    upper = np.random.choice(\n",
        "        [0, 1], size=(size, size), p=[1 - density, density]\n",
        "    ) * np.random.uniform(-1, 1, size=(size, size))\n",
        "\n",
        "    # 让对角线为0\n",
        "    np.fill_diagonal(upper, 0)\n",
        "\n",
        "    # 只保留上三角部分（含对角线0）\n",
        "    upper = np.triu(upper, k=1)\n",
        "\n",
        "    # 下三角镜像上三角，保证对称\n",
        "    mat = upper + upper.T\n",
        "\n",
        "    return mat"
      ]
    },
    {
      "cell_type": "code",
      "execution_count": null,
      "id": "3864f17a",
      "metadata": {},
      "outputs": [],
      "source": [
        "import numpy as np\n",
        "from plotfig import plot_brain_connection_figure\n",
        "\n",
        "lh_surfgii_file = r\"e:\\6_Self\\plot_self_brain_connectivity\\103818.L.midthickness.32k_fs_LR.surf.gii\"\n",
        "rh_surfgii_file = r\"e:\\6_Self\\plot_self_brain_connectivity\\103818.R.midthickness.32k_fs_LR.surf.gii\"\n",
        "niigz_file = r\"e:\\6_Self\\plot_self_brain_connectivity\\human_Self_processing_network.nii.gz\"\n",
        "output_file = r\"E:\\git_repositories\\plotfig\\tests\\test.html\"\n",
        "\n",
        "connectome = generate_sparse_connectome_v1(seed=42)\n",
        "# connectome = generate_sparse_connectome_v2(seed=42)\n",
        "# print(np.max(connectome), np.min(connectome))\n",
        "\n",
        "fig = plot_brain_connection_figure(\n",
        "    connectome,\n",
        "    lh_surfgii_file=lh_surfgii_file,\n",
        "    rh_surfgii_file=rh_surfgii_file,\n",
        "    niigz_file=niigz_file,\n",
        "    line_color=\"green\",\n",
        "    scale_method=\"width_color\"\n",
        ")"
      ]
    },
    {
      "cell_type": "code",
      "execution_count": null,
      "id": "d844dfdd",
      "metadata": {},
      "outputs": [],
      "source": [
        "from plotfig import save_brain_connection_frames\n",
        "\n",
        "save_brain_connection_frames(fig, \"E:/git_repositories/plotfig/tests/figures/brain_connec_frames\")"
      ]
    }
  ],
  "metadata": {
    "kernelspec": {
      "display_name": "plotfig (3.11.11)",
      "language": "python",
      "name": "python3"
    },
    "language_info": {
      "codemirror_mode": {
        "name": "ipython"
      },
      "file_extension": ".py",
      "mimetype": "text/x-python",
      "name": "python",
      "nbconvert_exporter": "python",
      "pygments_lexer": "ipython3",
      "version": "3.11.11"
    }
  },
  "nbformat": 4,
  "nbformat_minor": 5
}
