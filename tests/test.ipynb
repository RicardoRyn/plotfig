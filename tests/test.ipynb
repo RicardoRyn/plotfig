{
 "cells": [
  {
   "cell_type": "code",
   "execution_count": 1,
   "id": "4f214d24",
   "metadata": {},
   "outputs": [],
   "source": [
    "import numpy as np\n",
    "from plotfig import *\n",
    "\n",
    "# 生成一个 31x31 的连接矩阵（对称加权矩阵，对角线为0）\n",
    "matrix = np.zeros((31, 31))\n",
    "matrix[0, 1] = 1\n",
    "matrix[0, 2] = 2\n",
    "matrix[0, 3] = 3\n",
    "matrix[4, 1] = -1\n",
    "matrix[4, 2] = -2\n",
    "matrix[4, 3] = -3\n",
    "matrix = (matrix + matrix.T) / 2  # 矩阵对称\n",
    "\n",
    "connectome = matrix\n",
    "\n",
    "output_file = \"./figures/brain_connection.html\"\n",
    "\n",
    "lh_surfgii_file = r\"e:\\6_Self\\plot_self_brain_connectivity\\103818.L.midthickness.32k_fs_LR.surf.gii\"\n",
    "rh_surfgii_file = r\"e:\\6_Self\\plot_self_brain_connectivity\\103818.R.midthickness.32k_fs_LR.surf.gii\"\n",
    "niigz_file = r\"e:\\6_Self\\plot_self_brain_connectivity\\human_Self_processing_network.nii.gz\"\n",
    "\n",
    "fig = plot_brain_connection_figure(\n",
    "    connectome,\n",
    "    lh_surfgii_file=lh_surfgii_file,\n",
    "    rh_surfgii_file=rh_surfgii_file,\n",
    "    niigz_file=niigz_file,\n",
    "    output_file=output_file,\n",
    "    scale_method=\"width\",\n",
    "    line_width=10,\n",
    ")"
   ]
  }
 ],
 "metadata": {
  "kernelspec": {
   "display_name": "main",
   "language": "python",
   "name": "python3"
  },
  "language_info": {
   "codemirror_mode": {
    "name": "ipython",
    "version": 3
   },
   "file_extension": ".py",
   "mimetype": "text/x-python",
   "name": "python",
   "nbconvert_exporter": "python",
   "pygments_lexer": "ipython3",
   "version": "3.12.9"
  }
 },
 "nbformat": 4,
 "nbformat_minor": 5
}
