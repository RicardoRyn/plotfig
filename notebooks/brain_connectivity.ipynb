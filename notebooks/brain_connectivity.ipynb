{
 "cells": [
  {
   "cell_type": "markdown",
   "id": "81189dc4",
   "metadata": {},
   "source": [
    "# 脑连接图\n",
    "\n",
    "🚧 施工中 🚧 "
   ]
  },
  {
   "cell_type": "code",
   "execution_count": null,
   "id": "dc06c9c8",
   "metadata": {},
   "outputs": [],
   "source": [
    "import numpy as np\n",
    "from plotfig import *\n",
    "\n",
    "# ------- 模拟数据 -------\n",
    "size = 202\n",
    "matrix = np.zeros((size, size))  # 生成全0矩阵\n",
    "\n",
    "# 增加连接\n",
    "matrix[0, 1] = 1\n",
    "matrix[0, 2] = 2\n",
    "matrix[0, 3] = 3\n",
    "matrix[4, 1] = -1\n",
    "matrix[4, 2] = -2\n",
    "matrix[4, 3] = -3\n",
    "# 使矩阵对称\n",
    "matrix = (matrix + matrix.T) / 2\n",
    "connectome = matrix\n",
    "\n",
    "# ------- 指定保存位置 -------\n",
    "output_file = \"./figures/brain_connection.html\"\n",
    "\n",
    "# ------- 画图 -------\n",
    "plot_brain_connection_figure(\n",
    "    connectome,\n",
    "    output_file=output_file,\n",
    "    scale_method=\"width\",\n",
    "    line_width=10,\n",
    ")"
   ]
  }
 ],
 "metadata": {
  "kernelspec": {
   "display_name": "main",
   "language": "python",
   "name": "python3"
  },
  "language_info": {
   "name": "python",
   "version": "3.12.9"
  }
 },
 "nbformat": 4,
 "nbformat_minor": 5
}
